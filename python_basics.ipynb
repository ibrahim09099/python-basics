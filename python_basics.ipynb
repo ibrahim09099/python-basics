{
  "nbformat": 4,
  "nbformat_minor": 0,
  "metadata": {
    "colab": {
      "provenance": []
    },
    "kernelspec": {
      "name": "python3",
      "display_name": "Python 3"
    },
    "language_info": {
      "name": "python"
    }
  },
  "cells": [
    {
      "cell_type": "markdown",
      "source": [
        "\n",
        "# PYTHON BASICS\n"
      ],
      "metadata": {
        "id": "s9p-XTaaogE7"
      }
    },
    {
      "cell_type": "markdown",
      "source": [
        "1. What is python, and why is it popular?\n",
        "Ans.Python is a programming language that is easy to understand and write, making it a popular choice among developers and programmers.\n",
        "It is popular because of yhe following reasons-\n",
        "-Ease of learning\n",
        "-Versatility\n",
        "-Readable\n",
        "-A lot of libraries\n",
        "-Huge active community\n",
        "\n",
        "2. What is an interpreter in python?\n",
        "Ans. An interpreter in Python is a program that reads and executes Python code line by line.\n",
        "\n",
        "3. What are pre-defined keywords in python?\n",
        "Ans. Pre-defined keywords in Python are reserved words that have a specific meaning and purpose in the language.\n",
        "\n",
        "4. Can keywords be used as variable name?\n",
        "Ans. No, keywords cannot be used as variable name.\n",
        "\n",
        "5. What is mutability in Python?\n",
        "Ans. Objects whose state or value can be changed after they are created are called as mutable object.\n",
        "\n",
        "6. Why are lists mutable, but tuples are immutable?\n",
        "Ans. Lists are mutable because it supports item assingnment or whose value can be changed after creation, whereas tuples cannot be changed after creation hence they are called as immutable.\n",
        "\n",
        "7. What is difference between \"==\" and \"is\" opertors in python?\n",
        "Ans. \"==\" Checks if the values of two objects are equal whereas \"is\"\n",
        "checks if the two variables refer to the same object in memory.\n",
        "\n",
        "8. What are logical operators in Python?\n",
        "Ans. The logical operators in python are-\n",
        "and & or\n",
        "\n",
        "9. What is type casting in Python?\n",
        "Ans. The process of changing the data type of a value/object is called type casting.\n",
        "\n",
        "10.What is the differnce between implicit and explicit type casting?\n",
        "Ans. In implicit type casting python automatically converts one data type to another without requiring user intervention.\n",
        "In explicit type castingthe programmer manually converts one data type to another using type conversion functions.\n",
        "\n",
        "11.What is the purpose of conditional statements in python?\n",
        "Ans. Conditional statement helps us to code decisions based on some preconditions.\n",
        "\n",
        "12.How does the elif statement work?\n",
        "Ans. The elif statement in python is used to check multiple conditions in a program.\n",
        "\n",
        "14.What is the difference between for and while loop?\n",
        "Ans. for loop is used to iterate over a sequence or any iterable object.\n",
        "while loop repeats a block of code as long as a condition is true.\n",
        "\n",
        "15. Describe a scenario where a while loop is more suitable then for loop.\n",
        "Ans. ......\n"
      ],
      "metadata": {
        "id": "2WZdFgLbpNE6"
      }
    },
    {
      "cell_type": "code",
      "source": [
        "#1. Write a python program to print \"Hello world!\"\n",
        "print(\"Hello, world!\")\n",
        "\n"
      ],
      "metadata": {
        "colab": {
          "base_uri": "https://localhost:8080/"
        },
        "id": "w3vNitwn8uBf",
        "outputId": "f949b8cc-d2c9-424e-9d33-9df91bfc33fe"
      },
      "execution_count": null,
      "outputs": [
        {
          "output_type": "stream",
          "name": "stdout",
          "text": [
            "Hello, world!\n"
          ]
        }
      ]
    },
    {
      "cell_type": "code",
      "source": [
        "#2. Write a python program that displays your name and age.\n",
        "name = \"ibrahim\"\n",
        "age = \"20\"\n",
        "name"
      ],
      "metadata": {
        "colab": {
          "base_uri": "https://localhost:8080/",
          "height": 35
        },
        "id": "25O2PbLo9Yrw",
        "outputId": "303dda12-5c92-49d2-9fe8-f4f9f4c8bb13"
      },
      "execution_count": null,
      "outputs": [
        {
          "output_type": "execute_result",
          "data": {
            "text/plain": [
              "'ibrahim'"
            ],
            "application/vnd.google.colaboratory.intrinsic+json": {
              "type": "string"
            }
          },
          "metadata": {},
          "execution_count": 4
        }
      ]
    },
    {
      "cell_type": "code",
      "source": [
        "age"
      ],
      "metadata": {
        "colab": {
          "base_uri": "https://localhost:8080/",
          "height": 35
        },
        "id": "lLI7CjuM_OR-",
        "outputId": "c019015f-4cb6-48e8-9c36-5cb02aa78e31"
      },
      "execution_count": null,
      "outputs": [
        {
          "output_type": "execute_result",
          "data": {
            "text/plain": [
              "'20'"
            ],
            "application/vnd.google.colaboratory.intrinsic+json": {
              "type": "string"
            }
          },
          "metadata": {},
          "execution_count": 5
        }
      ]
    },
    {
      "cell_type": "code",
      "source": [
        "# 3. Write a code to print all the pre-defined keywords in python using the keyword library\n",
        "help('keywords')"
      ],
      "metadata": {
        "colab": {
          "base_uri": "https://localhost:8080/"
        },
        "id": "qXfsYpOc_eoW",
        "outputId": "32fc798e-32f7-434b-d2ef-3631d45f0780"
      },
      "execution_count": null,
      "outputs": [
        {
          "output_type": "stream",
          "name": "stdout",
          "text": [
            "\n",
            "Here is a list of the Python keywords.  Enter any keyword to get more help.\n",
            "\n",
            "False               class               from                or\n",
            "None                continue            global              pass\n",
            "True                def                 if                  raise\n",
            "and                 del                 import              return\n",
            "as                  elif                in                  try\n",
            "assert              else                is                  while\n",
            "async               except              lambda              with\n",
            "await               finally             nonlocal            yield\n",
            "break               for                 not                 \n",
            "\n"
          ]
        }
      ]
    },
    {
      "cell_type": "code",
      "source": [
        " # 4. Write a python program to check if a given word is a python keyword\n",
        " word = input(\"enter a word\")\n",
        " if:\n",
        "  print(\"it is python keyword\")\n",
        "  else:\n",
        "    print(\"it is not a python keyword\")\n"
      ],
      "metadata": {
        "colab": {
          "base_uri": "https://localhost:8080/",
          "height": 106
        },
        "id": "NqVgO4gzAlV4",
        "outputId": "346a2569-1d86-47df-a7cf-9360b93b294c"
      },
      "execution_count": null,
      "outputs": [
        {
          "output_type": "error",
          "ename": "SyntaxError",
          "evalue": "invalid syntax (<ipython-input-7-aa9166a235fd>, line 3)",
          "traceback": [
            "\u001b[0;36m  File \u001b[0;32m\"<ipython-input-7-aa9166a235fd>\"\u001b[0;36m, line \u001b[0;32m3\u001b[0m\n\u001b[0;31m    if:\u001b[0m\n\u001b[0m      ^\u001b[0m\n\u001b[0;31mSyntaxError\u001b[0m\u001b[0;31m:\u001b[0m invalid syntax\n"
          ]
        }
      ]
    },
    {
      "cell_type": "code",
      "source": [
        "#5. Create a list and tuple in python and demonstrate how attempting to change an elements works differently for each.\n",
        "list = [1,2,3,4,5]\n",
        "print(\"MAIN LIST:\", list)\n",
        "list[2] = 10\n",
        "print(\"MODIFIED LIST:\", list)"
      ],
      "metadata": {
        "id": "w3wTJBgSCqHO",
        "colab": {
          "base_uri": "https://localhost:8080/"
        },
        "outputId": "06d0cf8e-4464-45e7-8b2a-d06999ec074c"
      },
      "execution_count": null,
      "outputs": [
        {
          "output_type": "stream",
          "name": "stdout",
          "text": [
            "MAIN LIST: [1, 2, 3, 4, 5]\n",
            "MODIFIED LIST: [1, 2, 10, 4, 5]\n"
          ]
        }
      ]
    },
    {
      "cell_type": "code",
      "source": [
        "#in tuple\n",
        "tuple = (1,2,3,4,5)\n",
        "print(\"MAIN TUPLE\")\n",
        "tuple[2] = 10\n",
        "print(\"error when modifying tuple becuase tuple doesn't support iteam assingnment\")\n",
        "\n"
      ],
      "metadata": {
        "colab": {
          "base_uri": "https://localhost:8080/",
          "height": 228
        },
        "id": "o8otx-HBZuA0",
        "outputId": "1be228ea-961c-4832-832f-58835b7b69d5"
      },
      "execution_count": null,
      "outputs": [
        {
          "output_type": "stream",
          "name": "stdout",
          "text": [
            "MAIN TUPLE\n"
          ]
        },
        {
          "output_type": "error",
          "ename": "TypeError",
          "evalue": "'tuple' object does not support item assignment",
          "traceback": [
            "\u001b[0;31m---------------------------------------------------------------------------\u001b[0m",
            "\u001b[0;31mTypeError\u001b[0m                                 Traceback (most recent call last)",
            "\u001b[0;32m<ipython-input-4-d83da943546a>\u001b[0m in \u001b[0;36m<cell line: 4>\u001b[0;34m()\u001b[0m\n\u001b[1;32m      2\u001b[0m \u001b[0mtuple\u001b[0m \u001b[0;34m=\u001b[0m \u001b[0;34m(\u001b[0m\u001b[0;36m1\u001b[0m\u001b[0;34m,\u001b[0m\u001b[0;36m2\u001b[0m\u001b[0;34m,\u001b[0m\u001b[0;36m3\u001b[0m\u001b[0;34m,\u001b[0m\u001b[0;36m4\u001b[0m\u001b[0;34m,\u001b[0m\u001b[0;36m5\u001b[0m\u001b[0;34m)\u001b[0m\u001b[0;34m\u001b[0m\u001b[0;34m\u001b[0m\u001b[0m\n\u001b[1;32m      3\u001b[0m \u001b[0mprint\u001b[0m\u001b[0;34m(\u001b[0m\u001b[0;34m\"MAIN TUPLE\"\u001b[0m\u001b[0;34m)\u001b[0m\u001b[0;34m\u001b[0m\u001b[0;34m\u001b[0m\u001b[0m\n\u001b[0;32m----> 4\u001b[0;31m \u001b[0mtuple\u001b[0m\u001b[0;34m[\u001b[0m\u001b[0;36m2\u001b[0m\u001b[0;34m]\u001b[0m \u001b[0;34m=\u001b[0m \u001b[0;36m10\u001b[0m\u001b[0;34m\u001b[0m\u001b[0;34m\u001b[0m\u001b[0m\n\u001b[0m\u001b[1;32m      5\u001b[0m \u001b[0mprint\u001b[0m\u001b[0;34m(\u001b[0m\u001b[0;34m\"error when modifying tuple becuase tuple doesn't support iteam assingnment\"\u001b[0m\u001b[0;34m)\u001b[0m\u001b[0;34m\u001b[0m\u001b[0;34m\u001b[0m\u001b[0m\n\u001b[1;32m      6\u001b[0m \u001b[0;34m\u001b[0m\u001b[0m\n",
            "\u001b[0;31mTypeError\u001b[0m: 'tuple' object does not support item assignment"
          ]
        }
      ]
    },
    {
      "cell_type": "code",
      "source": [
        "#6. Write a function to demontrate the behavior of mutable and immutable arguments.\n",
        "mutable_list = [1,2,3,4]\n",
        "print(\"ORIGINAL LIST:\", mutable_list)\n",
        "mutable_list[1] = 10\n",
        "print(\"MODIFIED LIST:\", mutable_list)\n"
      ],
      "metadata": {
        "colab": {
          "base_uri": "https://localhost:8080/"
        },
        "id": "VMuwBuY-bXpn",
        "outputId": "8a01eb7f-04c2-446f-9ff7-518d0f2c82b2"
      },
      "execution_count": null,
      "outputs": [
        {
          "output_type": "stream",
          "name": "stdout",
          "text": [
            "ORIGINAL LIST: [1, 2, 3, 4]\n",
            "MODIFIED LIST: [1, 10, 3, 4]\n"
          ]
        }
      ]
    },
    {
      "cell_type": "code",
      "source": [
        "\n",
        "immutable_tuple = (1,2,3,4,5)\n",
        "print(\"ORIGINAL TUPLE:\", immutable_tuple)\n",
        "immutable_tuple[2] = 10\n",
        "print(\"error on modyfying tuple\")"
      ],
      "metadata": {
        "colab": {
          "base_uri": "https://localhost:8080/",
          "height": 211
        },
        "id": "JF3ufnBhdpBQ",
        "outputId": "aec23a22-0a88-40b6-d4dd-a5d8486578d5"
      },
      "execution_count": null,
      "outputs": [
        {
          "output_type": "stream",
          "name": "stdout",
          "text": [
            "ORIGINAL TUPLE: (1, 2, 3, 4, 5)\n"
          ]
        },
        {
          "output_type": "error",
          "ename": "TypeError",
          "evalue": "'tuple' object does not support item assignment",
          "traceback": [
            "\u001b[0;31m---------------------------------------------------------------------------\u001b[0m",
            "\u001b[0;31mTypeError\u001b[0m                                 Traceback (most recent call last)",
            "\u001b[0;32m<ipython-input-11-cecd4decb8f2>\u001b[0m in \u001b[0;36m<cell line: 3>\u001b[0;34m()\u001b[0m\n\u001b[1;32m      1\u001b[0m \u001b[0mimmutable_tuple\u001b[0m \u001b[0;34m=\u001b[0m \u001b[0;34m(\u001b[0m\u001b[0;36m1\u001b[0m\u001b[0;34m,\u001b[0m\u001b[0;36m2\u001b[0m\u001b[0;34m,\u001b[0m\u001b[0;36m3\u001b[0m\u001b[0;34m,\u001b[0m\u001b[0;36m4\u001b[0m\u001b[0;34m,\u001b[0m\u001b[0;36m5\u001b[0m\u001b[0;34m)\u001b[0m\u001b[0;34m\u001b[0m\u001b[0;34m\u001b[0m\u001b[0m\n\u001b[1;32m      2\u001b[0m \u001b[0mprint\u001b[0m\u001b[0;34m(\u001b[0m\u001b[0;34m\"ORIGINAL TUPLE:\"\u001b[0m\u001b[0;34m,\u001b[0m \u001b[0mimmutable_tuple\u001b[0m\u001b[0;34m)\u001b[0m\u001b[0;34m\u001b[0m\u001b[0;34m\u001b[0m\u001b[0m\n\u001b[0;32m----> 3\u001b[0;31m \u001b[0mimmutable_tuple\u001b[0m\u001b[0;34m[\u001b[0m\u001b[0;36m2\u001b[0m\u001b[0;34m]\u001b[0m \u001b[0;34m=\u001b[0m \u001b[0;36m10\u001b[0m\u001b[0;34m\u001b[0m\u001b[0;34m\u001b[0m\u001b[0m\n\u001b[0m\u001b[1;32m      4\u001b[0m \u001b[0mprint\u001b[0m\u001b[0;34m(\u001b[0m\u001b[0;34m\"error on modyfying tuple\"\u001b[0m\u001b[0;34m)\u001b[0m\u001b[0;34m\u001b[0m\u001b[0;34m\u001b[0m\u001b[0m\n",
            "\u001b[0;31mTypeError\u001b[0m: 'tuple' object does not support item assignment"
          ]
        }
      ]
    },
    {
      "cell_type": "code",
      "source": [
        "#8. Write a program to demonstrate the use of logical operators.\n",
        "z = 10\n",
        "y = 20\n",
        "# AND operator\n",
        "print(\"AND Operator:\")\n",
        "print(z > 5 and y > 15)\n",
        "# OR Operator\n",
        "print(\"OR Operator\")\n",
        "print(z > 15 and y > 15)\n"
      ],
      "metadata": {
        "colab": {
          "base_uri": "https://localhost:8080/"
        },
        "id": "pw6SZWxjewMI",
        "outputId": "7ea697aa-6e09-4c48-a929-2e11d80f61f7"
      },
      "execution_count": null,
      "outputs": [
        {
          "output_type": "stream",
          "name": "stdout",
          "text": [
            "AND Operator:\n",
            "True\n",
            "OR Operator\n",
            "False\n"
          ]
        }
      ]
    },
    {
      "cell_type": "code",
      "source": [
        "#9. Write a python program to convert user input from string to integer, float, and boolean types.\n",
        "a = \"Ibrahim\"\n",
        "a\n",
        "type(a)"
      ],
      "metadata": {
        "colab": {
          "base_uri": "https://localhost:8080/"
        },
        "id": "UpL3ujyoi8dT",
        "outputId": "36410110-63e1-469b-fb17-b1f3a1eac869"
      },
      "execution_count": null,
      "outputs": [
        {
          "output_type": "execute_result",
          "data": {
            "text/plain": [
              "str"
            ]
          },
          "metadata": {},
          "execution_count": 19
        }
      ]
    },
    {
      "cell_type": "code",
      "source": [
        "int(a)\n",
        "float(a)\n",
        "bool(a)\n",
        "\n"
      ],
      "metadata": {
        "colab": {
          "base_uri": "https://localhost:8080/",
          "height": 193
        },
        "id": "UR7gH-VSlsMP",
        "outputId": "c524ba5b-2561-48fc-b62d-5da6c653acf5"
      },
      "execution_count": null,
      "outputs": [
        {
          "output_type": "error",
          "ename": "ValueError",
          "evalue": "invalid literal for int() with base 10: 'Ibrahim'",
          "traceback": [
            "\u001b[0;31m---------------------------------------------------------------------------\u001b[0m",
            "\u001b[0;31mValueError\u001b[0m                                Traceback (most recent call last)",
            "\u001b[0;32m<ipython-input-20-5b36ed07754e>\u001b[0m in \u001b[0;36m<cell line: 1>\u001b[0;34m()\u001b[0m\n\u001b[0;32m----> 1\u001b[0;31m \u001b[0mint\u001b[0m\u001b[0;34m(\u001b[0m\u001b[0ma\u001b[0m\u001b[0;34m)\u001b[0m\u001b[0;34m\u001b[0m\u001b[0;34m\u001b[0m\u001b[0m\n\u001b[0m\u001b[1;32m      2\u001b[0m \u001b[0mfloat\u001b[0m\u001b[0;34m(\u001b[0m\u001b[0ma\u001b[0m\u001b[0;34m)\u001b[0m\u001b[0;34m\u001b[0m\u001b[0;34m\u001b[0m\u001b[0m\n\u001b[1;32m      3\u001b[0m \u001b[0mbool\u001b[0m\u001b[0;34m(\u001b[0m\u001b[0ma\u001b[0m\u001b[0;34m)\u001b[0m\u001b[0;34m\u001b[0m\u001b[0;34m\u001b[0m\u001b[0m\n\u001b[1;32m      4\u001b[0m \u001b[0;34m\u001b[0m\u001b[0m\n",
            "\u001b[0;31mValueError\u001b[0m: invalid literal for int() with base 10: 'Ibrahim'"
          ]
        }
      ]
    },
    {
      "cell_type": "code",
      "source": [
        "#11. Write a program that checks if a number is positive, negative, or zero\n",
        "number =int(input(\"Enter the number\"))\n",
        "if number > 0:\n",
        "  print(\"number is positive\")\n",
        "elif number < 0:\n",
        "  print(\"number is negative\")\n",
        "else:\n",
        "  print(\"number is zero\")"
      ],
      "metadata": {
        "colab": {
          "base_uri": "https://localhost:8080/"
        },
        "id": "kFde7LlLmCvL",
        "outputId": "8e9a405d-d736-420c-d650-9e8c43b955e0"
      },
      "execution_count": null,
      "outputs": [
        {
          "output_type": "stream",
          "name": "stdout",
          "text": [
            "Enter the number2\n",
            "number is positive\n"
          ]
        }
      ]
    },
    {
      "cell_type": "code",
      "source": [
        "#12. Write a loop to print from 1 to 10.\n",
        "n = 11\n",
        "i = 1\n",
        "while i < n:\n",
        "  print(i)\n",
        "  i = i+1\n"
      ],
      "metadata": {
        "colab": {
          "base_uri": "https://localhost:8080/"
        },
        "id": "bLT7JoognPcM",
        "outputId": "825287d1-57ef-4a5c-8ae9-527dc41ba659"
      },
      "execution_count": null,
      "outputs": [
        {
          "output_type": "stream",
          "name": "stdout",
          "text": [
            "1\n",
            "2\n",
            "3\n",
            "4\n",
            "5\n",
            "6\n",
            "7\n",
            "8\n",
            "9\n",
            "10\n"
          ]
        }
      ]
    },
    {
      "cell_type": "code",
      "source": [
        "#13. Write a python program to find the sum of all even numbers between 1 and 50\n",
        "sum = 0\n",
        "for i  in range(1,51):\n",
        "  if i % 2 == 0:\n",
        "    sum += i\n",
        "    print(\" the sum of all even numbers between 1 and 50 is:\", sum)"
      ],
      "metadata": {
        "colab": {
          "base_uri": "https://localhost:8080/"
        },
        "id": "Ubfa4J7Yo2G5",
        "outputId": "99a1609b-bde1-4342-8e21-235f6a10ad40"
      },
      "execution_count": null,
      "outputs": [
        {
          "output_type": "stream",
          "name": "stdout",
          "text": [
            " the sum of all even numbers between 1 and 50 is: 2\n",
            " the sum of all even numbers between 1 and 50 is: 6\n",
            " the sum of all even numbers between 1 and 50 is: 12\n",
            " the sum of all even numbers between 1 and 50 is: 20\n",
            " the sum of all even numbers between 1 and 50 is: 30\n",
            " the sum of all even numbers between 1 and 50 is: 42\n",
            " the sum of all even numbers between 1 and 50 is: 56\n",
            " the sum of all even numbers between 1 and 50 is: 72\n",
            " the sum of all even numbers between 1 and 50 is: 90\n",
            " the sum of all even numbers between 1 and 50 is: 110\n",
            " the sum of all even numbers between 1 and 50 is: 132\n",
            " the sum of all even numbers between 1 and 50 is: 156\n",
            " the sum of all even numbers between 1 and 50 is: 182\n",
            " the sum of all even numbers between 1 and 50 is: 210\n",
            " the sum of all even numbers between 1 and 50 is: 240\n",
            " the sum of all even numbers between 1 and 50 is: 272\n",
            " the sum of all even numbers between 1 and 50 is: 306\n",
            " the sum of all even numbers between 1 and 50 is: 342\n",
            " the sum of all even numbers between 1 and 50 is: 380\n",
            " the sum of all even numbers between 1 and 50 is: 420\n",
            " the sum of all even numbers between 1 and 50 is: 462\n",
            " the sum of all even numbers between 1 and 50 is: 506\n",
            " the sum of all even numbers between 1 and 50 is: 552\n",
            " the sum of all even numbers between 1 and 50 is: 600\n",
            " the sum of all even numbers between 1 and 50 is: 650\n"
          ]
        }
      ]
    },
    {
      "cell_type": "code",
      "source": [
        "#14. Write a program to reverse a string using a while loop.\n",
        ".....\n",
        "\n"
      ],
      "metadata": {
        "id": "DAMUWW2rqkLs"
      },
      "execution_count": null,
      "outputs": []
    },
    {
      "cell_type": "code",
      "source": [
        "#15. Write a python program to calculate the factorial of a number provided by a user using a while loop.\n",
        "num = int(input(\"enter a number:\"))\n",
        "factorial = 1\n",
        "i = num\n",
        "while i > 0:\n",
        "  factorial *= i\n",
        "  i -= 1\n",
        "print(\"factorial of\", num, \"is\", factorial)"
      ],
      "metadata": {
        "colab": {
          "base_uri": "https://localhost:8080/"
        },
        "id": "qSV-Hx4uraSJ",
        "outputId": "5e82acbb-1a2a-459b-b2a3-70a108839b57"
      },
      "execution_count": null,
      "outputs": [
        {
          "output_type": "stream",
          "name": "stdout",
          "text": [
            "enter a number:99\n",
            "factorial of 99 is 933262154439441526816992388562667004907159682643816214685929638952175999932299156089414639761565182862536979208272237582511852109168640000000000000000000000\n"
          ]
        }
      ]
    },
    {
      "cell_type": "code",
      "source": [],
      "metadata": {
        "id": "vqiCN_32s2-A"
      },
      "execution_count": null,
      "outputs": []
    }
  ]
}